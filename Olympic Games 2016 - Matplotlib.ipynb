{
 "cells": [
  {
   "cell_type": "markdown",
   "id": "63575e70",
   "metadata": {},
   "source": [
    "# Visualization of Olympic Games 2016 Dataset with Matplotlib"
   ]
  },
  {
   "cell_type": "markdown",
   "id": "b425570c",
   "metadata": {},
   "source": [
    "### Number of observations "
   ]
  },
  {
   "cell_type": "code",
   "execution_count": null,
   "id": "228326e2",
   "metadata": {},
   "outputs": [],
   "source": [
    "#number of men and women in the datatset\n",
    "gender=summer.groupby(\"Sex\").agg({'ID': 'count'}).reset_index()\n",
    "fig, ax = plt.subplots()\n",
    "fig.set_size_inches([10,7])\n",
    "p1=ax.bar(gender[\"Sex\"],gender[\"ID\"],color=[\"lightgreen\",\"lightblue\"],alpha=0.8)\n",
    "ax.set_xticks(gender[\"Sex\"])\n",
    "ax.bar_label(p1)\n",
    "ax.set_ylabel(\"Number of men and women\")\n",
    "ax.set_xticklabels([\"Female\",\"Male\"])\n",
    "ax.set_title(\"The number of men and women in the dataset\")\n",
    "fig.savefig(\"D:\\Python\\projects\\project1_images\\gender_1.png\")\n",
    "plt.show()"
   ]
  },
  {
   "cell_type": "markdown",
   "id": "3e15a275",
   "metadata": {},
   "source": [
    "### Age distribution"
   ]
  },
  {
   "cell_type": "code",
   "execution_count": null,
   "id": "c8ee6f58",
   "metadata": {},
   "outputs": [],
   "source": [
    "#age distribution\n",
    "\n",
    "#creating a column age_label\n",
    "conditions=[(summer[\"Age\"]>=15) & (summer[\"Age\"]<=28),(summer[\"Age\"]>=29) & (summer[\"Age\"]<=41),(summer[\"Age\"]>=42)]\n",
    "options=[\"15-28\",\"29-41\",\"42-58\"]\n",
    "summer[\"age_label\"]=np.select(conditions,options)\n",
    "\n",
    "#creating the graph\n",
    "labels=sorted(summer[\"age_label\"].unique())\n",
    "age=summer.groupby(\"age_label\").agg({\"ID\":\"count\"}).reset_index()\n",
    "fig,ax=plt.subplots()\n",
    "fig.set_size_inches([10,7])\n",
    "ax.bar(age[\"age_label\"],age[\"ID\"],color=\"orange\",alpha=0.5)\n",
    "ax.set_xticks(age[\"age_label\"])\n",
    "ax.set_ylabel(\"Age distribution\")\n",
    "ax.set_title(\"Age distribution for men and women\")\n",
    "ax.set_xticklabels(labels)\n",
    "fig.savefig(\"D:\\\\Python\\\\projects\\\\project1_images\\\\totalyears_1.png\")\n",
    "plt.show()"
   ]
  },
  {
   "cell_type": "markdown",
   "id": "009d21e6",
   "metadata": {},
   "source": [
    "### Age distribution by men"
   ]
  },
  {
   "cell_type": "code",
   "execution_count": null,
   "id": "b6dcb421",
   "metadata": {},
   "outputs": [],
   "source": [
    "#age distribution by men\n",
    "\n",
    "#filtering the dataframe only for men\n",
    "summer_men=summer[summer[\"Sex\"]==\"M\"]\n",
    "\n",
    "#creating a column age_label\n",
    "conditions=[(summer_men[\"Age\"]>=15) & (summer_men[\"Age\"]<=28),(summer_men[\"Age\"]>=29) & (summer_men[\"Age\"]<=41),(summer_men[\"Age\"]>=42)]\n",
    "options=[\"15-28\",\"29-41\",\"42-58\"]\n",
    "summer_men[\"age_label\"]=np.select(conditions,options)\n",
    "\n",
    "#creating the graph\n",
    "labels=sorted(summer_men[\"age_label\"].unique())\n",
    "age=summer_men.groupby(\"age_label\").agg({\"ID\":\"count\"}).reset_index()\n",
    "fig,ax=plt.subplots()\n",
    "fig.set_size_inches([10,7])\n",
    "ax.bar(age[\"age_label\"],age[\"ID\"],color=\"blue\",alpha=0.5)\n",
    "ax.set_xticks(labels)\n",
    "ax.set_ylabel(\"Age distribution by men\")\n",
    "ax.set_xticklabels(labels)\n",
    "ax.set_title(\"Age distribution by men\")\n",
    "fig.savefig(\"D:\\Python\\projects\\project1_images\\menyears_1.png\")\n",
    "plt.show()"
   ]
  },
  {
   "cell_type": "markdown",
   "id": "88241428",
   "metadata": {},
   "source": [
    "### Age distribution by women"
   ]
  },
  {
   "cell_type": "code",
   "execution_count": null,
   "id": "f5ed9b58",
   "metadata": {},
   "outputs": [],
   "source": [
    "#age distribution by women\n",
    "\n",
    "#filtering the dataframe only for women\n",
    "summer_women=summer[summer[\"Sex\"]==\"F\"]\n",
    "\n",
    "#creating a column age_label\n",
    "conditions=[(summer_women[\"Age\"]>=15) & (summer_women[\"Age\"]<=28),(summer_women[\"Age\"]>=29) & (summer_women[\"Age\"]<=41),(summer_women[\"Age\"]>=42)]\n",
    "options=[\"15-28\",\"29-41\",\"42-58\"]\n",
    "summer_women[\"age_label\"]=np.select(conditions,options)\n",
    "\n",
    "#creating the graph\n",
    "labels=sorted(summer_women[\"age_label\"].unique())\n",
    "age=summer_women.groupby(\"age_label\").agg({\"ID\":\"count\"}).reset_index()\n",
    "fig,ax=plt.subplots()\n",
    "fig.set_size_inches([10,7])\n",
    "ax.bar(age[\"age_label\"],age[\"ID\"],color=\"yellow\",alpha=0.5)\n",
    "ax.set_xticks(age[\"age_label\"])\n",
    "ax.set_ylabel(\"Age distribution by women\")\n",
    "ax.set_title(\"Age distribution by women\")\n",
    "ax.set_xticklabels(labels)\n",
    "fig.savefig(\"D:\\Python\\projects\\project1_images\\womenyears_1.png\")\n",
    "plt.show()"
   ]
  },
  {
   "cell_type": "markdown",
   "id": "58e26081",
   "metadata": {},
   "source": [
    "### Average weight for men and women"
   ]
  },
  {
   "cell_type": "code",
   "execution_count": null,
   "id": "668ccedb",
   "metadata": {},
   "outputs": [],
   "source": [
    "#finding the average weight for each gender\n",
    "gender=sorted(summer[\"Sex\"].unique())\n",
    "fig, ax = plt.subplots()\n",
    "for i in gender:\n",
    "    summer_df=summer[summer[\"Sex\"]==i]\n",
    "    ax.bar(i,summer_df[\"Weight\"].mean(),yerr=summer_df[\"Weight\"].std())\n",
    "ax.set_xticks(gender)\n",
    "ax.set_ylabel(\"Average weight by gender\")\n",
    "ax.set_xticklabels([\"Female\",\"Male\"])\n",
    "ax.set_title(\"Average weight for men and women\")\n",
    "plt.show()\n",
    "fig.set_size_inches([10,7])\n",
    "fig.savefig(\"D:\\Python\\projects\\project1_images\\weight_1.png\")\n",
    "plt.show()"
   ]
  },
  {
   "cell_type": "markdown",
   "id": "1de106de",
   "metadata": {},
   "source": [
    "### Average height for men and women"
   ]
  },
  {
   "cell_type": "code",
   "execution_count": null,
   "id": "b8230a94",
   "metadata": {},
   "outputs": [],
   "source": [
    "#finding the average height for men and women\n",
    "gender=sorted(summer[\"Sex\"].unique())\n",
    "fig, ax = plt.subplots()\n",
    "for i in gender:\n",
    "    summer_df=summer[summer[\"Sex\"]==i]\n",
    "    ax.bar(i,summer_df[\"Height\"].mean(),yerr=summer_df[\"Height\"].std())\n",
    "ax.set_xticks(gender)\n",
    "ax.set_ylabel(\"Average height by gender\")\n",
    "ax.set_xticklabels([\"Female\",\"Male\"])\n",
    "ax.set_title(\"Average height for men and women\")\n",
    "plt.show()\n",
    "fig.set_size_inches([10,7])\n",
    "fig.savefig(\"D:\\Python\\projects\\project1_images\\height.png\")"
   ]
  },
  {
   "cell_type": "markdown",
   "id": "eb3bf663",
   "metadata": {},
   "source": [
    "### Average weight for each sport"
   ]
  },
  {
   "cell_type": "code",
   "execution_count": null,
   "id": "c9b62d7b",
   "metadata": {},
   "outputs": [],
   "source": [
    "#finding the average weight for each sport\n",
    "sports=sorted(summer[\"Sport\"].unique())\n",
    "fig, ax = plt.subplots()\n",
    "for i in sports:\n",
    "    summer_df=summer[summer[\"Sport\"]==i]\n",
    "    ax.bar(i,summer_df[\"Weight\"].mean(),yerr=summer_df[\"Weight\"].std())\n",
    "ax.set_xticks(sports)\n",
    "ax.set_ylabel(\"Average weight\") \n",
    "ax.set_title(\"The average weight for each sport\")\n",
    "ax.set_xticklabels(sports,rotation=90)\n",
    "fig.set_size_inches([10,7])\n",
    "fig.savefig(\"D:\\Python\\projects\\project1_images\\sportsweight.png\")\n",
    "plt.show()"
   ]
  },
  {
   "cell_type": "markdown",
   "id": "5b10de72",
   "metadata": {},
   "source": [
    "### Average height for each sport"
   ]
  },
  {
   "cell_type": "code",
   "execution_count": null,
   "id": "067e1957",
   "metadata": {},
   "outputs": [],
   "source": [
    "#finding the average height for each sport\n",
    "sports=sorted(summer[\"Sport\"].unique())\n",
    "fig, ax = plt.subplots()\n",
    "fig.set_size_inches([10,7])\n",
    "for i in sports:\n",
    "    summer_df=summer[summer[\"Sport\"]==i]\n",
    "    ax.bar(i,summer_df[\"Height\"].mean(),yerr=summer_df[\"Height\"].std())\n",
    "ax.set_xticks(sports)\n",
    "ax.set_ylabel(\"Average height\") \n",
    "ax.set_title(\"The average height for each sport\")\n",
    "ax.set_xticklabels(sports,rotation=90)\n",
    "fig.savefig(\"D:\\Python\\projects\\project1_images\\sportsheight.png\")\n",
    "plt.show()"
   ]
  },
  {
   "cell_type": "markdown",
   "id": "8f7b637f",
   "metadata": {},
   "source": [
    "### Correlation between weight and height "
   ]
  },
  {
   "cell_type": "code",
   "execution_count": null,
   "id": "f0af65f7",
   "metadata": {},
   "outputs": [],
   "source": [
    "#finding if there is a correlation between weight and height\n",
    "fig,ax=plt.subplots()\n",
    "fig.set_size_inches([10,7])\n",
    "colors=np.random.rand(2014)\n",
    "ax.scatter(summer[\"Weight\"],summer[\"Height\"],c=colors,alpha=0.75)\n",
    "ax.set_ylabel(\"Height\")\n",
    "ax.set_xlabel(\"Weight\")\n",
    "ax.set_title(\"Correlation between weight and height\")\n",
    "fig.savefig(\"D:\\Python\\projects\\project1_images\\corr.png\")\n",
    "plt.show()"
   ]
  },
  {
   "cell_type": "markdown",
   "id": "d8b84864",
   "metadata": {},
   "source": [
    "### Number of gold, silver and bronze medals"
   ]
  },
  {
   "cell_type": "code",
   "execution_count": null,
   "id": "2600a9b6",
   "metadata": {},
   "outputs": [],
   "source": [
    "#creating a unique list for medals\n",
    "medals=sorted(summer[\"Medal\"].unique())\n",
    "\n",
    "#creating the graph and looping over the unique list to create different color for each bar\n",
    "fig, ax = plt.subplots()\n",
    "for i in medals:\n",
    "    medals_df=summer[summer[\"Medal\"]==i]\n",
    "    ax.bar(i,medals_df[\"Medal\"].count())\n",
    "ax.set_xticks(medals)\n",
    "ax.set_ylabel(\"Number of medals\")\n",
    "ax.set_xticklabels(medals)\n",
    "ax.set_title(\"Number of gold, silver and bronze medals\")\n",
    "fig.set_size_inches([10,7])\n",
    "fig.savefig(\"D:\\Python\\projects\\project1_images\\medalsg.png\")\n",
    "plt.show()"
   ]
  },
  {
   "cell_type": "markdown",
   "id": "5d330034",
   "metadata": {},
   "source": [
    "### Number of medals for women"
   ]
  },
  {
   "cell_type": "code",
   "execution_count": null,
   "id": "d79ecd90",
   "metadata": {},
   "outputs": [],
   "source": [
    "#Medals across women\n",
    "\n",
    "#1.We have to isolate women\n",
    "women=summer[summer[\"Sex\"]==\"F\"]\n",
    "\n",
    "#2.Unique categories of column medal\n",
    "medals=sorted(women[\"Medal\"].unique())\n",
    "\n",
    "#creating the graph and looping over the unique list to create different color for each bar\n",
    "fig, ax = plt.subplots()\n",
    "for i in medals:\n",
    "    medals_df=women[women[\"Medal\"]==i]\n",
    "    ax.bar(i,medals_df[\"Medal\"].count())\n",
    "ax.set_xticks(medals)\n",
    "ax.set_ylabel(\"Number of medals\")\n",
    "ax.set_title(\"Number of medals for women\")\n",
    "ax.set_xticklabels(medals)\n",
    "fig.set_size_inches([10,7])\n",
    "fig.savefig(\"D:\\Python\\projects\\project1_images\\medalsw.png\")\n",
    "plt.show()"
   ]
  },
  {
   "cell_type": "markdown",
   "id": "0f97d2f2",
   "metadata": {},
   "source": [
    "### Number of medals for men"
   ]
  },
  {
   "cell_type": "code",
   "execution_count": null,
   "id": "098c1e6c",
   "metadata": {},
   "outputs": [],
   "source": [
    "#Medals across men\n",
    "\n",
    "#1.We have to isolate men\n",
    "women=summer[summer[\"Sex\"]==\"M\"]\n",
    "\n",
    "#2.Unique categories of column medal\n",
    "medals=sorted(women[\"Medal\"].unique())\n",
    "\n",
    "#creating the graph and looping over the unique list to create different color for each bar\n",
    "fig, ax = plt.subplots()\n",
    "for i in medals:\n",
    "    medals_df=women[women[\"Medal\"]==i]\n",
    "    ax.bar(i,medals_df[\"Medal\"].count())\n",
    "ax.set_xticks(medals)\n",
    "ax.set_ylabel(\"Number of medals\")\n",
    "ax.set_xticklabels(medals)\n",
    "ax.set_title(\"Number of medals for men\")\n",
    "fig.set_size_inches([10,7])\n",
    "fig.savefig(\"D:\\Python\\projects\\project1_images\\medalsm.png\")\n",
    "plt.show()"
   ]
  },
  {
   "cell_type": "markdown",
   "id": "c62ae521",
   "metadata": {},
   "source": [
    "### Correlation between the number of gold medals gained and the age of the athletes"
   ]
  },
  {
   "cell_type": "code",
   "execution_count": null,
   "id": "d810cfeb",
   "metadata": {},
   "outputs": [],
   "source": [
    "#correlation between gold medals and age\n",
    "gold=summer[summer[\"Medal\"]==\"Gold\"]\n",
    "summer_df=gold.groupby(\"Age\").agg({\"ID\":\"count\"}).reset_index()\n",
    "fig,ax=plt.subplots()\n",
    "fig.set_size_inches([10,7])\n",
    "colors=np.random.rand(33)\n",
    "ax.scatter(summer_df[\"ID\"],summer_df[\"Age\"],c=colors,s=60,alpha=0.6)\n",
    "ax.set_xlabel(\"Number of gold medals\")\n",
    "ax.set_ylabel(\"Age\")\n",
    "ax.set_title(\"Correlation between number of gold medals and age\")\n",
    "fig.savefig(\"D:\\Python\\projects\\project1_images\\corr1.png\")\n",
    "plt.show()"
   ]
  },
  {
   "cell_type": "markdown",
   "id": "18908247",
   "metadata": {},
   "source": [
    "### Number of gold medals per country"
   ]
  },
  {
   "cell_type": "code",
   "execution_count": null,
   "id": "05a67e97",
   "metadata": {},
   "outputs": [],
   "source": [
    "#number of gold medals per country\n",
    "gold=summer[summer[\"Medal\"]==\"Gold\"]\n",
    "country=sorted(gold[\"NOC\"].unique())\n",
    "gold_df=gold.groupby(\"NOC\").agg({\"ID\":\"count\"}).reset_index()\n",
    "#creating the plot\n",
    "fig, ax=plt.subplots()\n",
    "fig.set_size_inches([15,12])\n",
    "p1=ax.bar(gold_df[\"NOC\"], gold_df[\"ID\"], color=\"lightgreen\")\n",
    "ax.set_xticks(country)\n",
    "ax.bar_label(p1)\n",
    "ax.set_ylabel(\"Number of gold medals\")\n",
    "ax.set_title(\"Number of gold medals per country\")\n",
    "ax.set_xticklabels(country,rotation=90)\n",
    "fig.savefig(\"D:\\Python\\projects\\project1_images\\medalscountry.png\")\n",
    "plt.show()"
   ]
  }
 ],
 "metadata": {
  "kernelspec": {
   "display_name": "Python 3 (ipykernel)",
   "language": "python",
   "name": "python3"
  },
  "language_info": {
   "codemirror_mode": {
    "name": "ipython",
    "version": 3
   },
   "file_extension": ".py",
   "mimetype": "text/x-python",
   "name": "python",
   "nbconvert_exporter": "python",
   "pygments_lexer": "ipython3",
   "version": "3.9.7"
  }
 },
 "nbformat": 4,
 "nbformat_minor": 5
}
